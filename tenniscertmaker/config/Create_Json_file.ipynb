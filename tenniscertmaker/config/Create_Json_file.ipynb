{
 "cells": [
  {
   "cell_type": "code",
   "execution_count": 1,
   "id": "fac54995-8c8b-4ab9-abeb-de73f7304042",
   "metadata": {
    "tags": []
   },
   "outputs": [],
   "source": [
    "import json\n",
    "#the file to be converted to[[Image:Convert Txt to Json Step 8 Version 2.jpg|center]]\n",
    "# json format \n"
   ]
  },
  {
   "cell_type": "code",
   "execution_count": 3,
   "id": "dbe83654-80c5-4ec8-b53b-a5d7fccfc062",
   "metadata": {
    "tags": []
   },
   "outputs": [],
   "source": [
    "# Creating the dictionary with the required settings\n",
    "dict1 = {\n",
    "    \"gmail_user\": \"[Usernam]@gmail.com\",\n",
    "    \"gmail_password\": \"[Password]\"\n",
    "}\n",
    "\n",
    "# Writing the dictionary to a JSON file named 'settings.json'\n",
    "with open(\"settings.json\", \"w\") as out_file:\n",
    "    json.dump(dict1, out_file, indent=4, sort_keys=False)"
   ]
  },
  {
   "cell_type": "code",
   "execution_count": null,
   "id": "a435c3f3-5aed-4c63-9274-efd324114fd4",
   "metadata": {},
   "outputs": [],
   "source": []
  }
 ],
 "metadata": {
  "kernelspec": {
   "display_name": "Python 3 (ipykernel)",
   "language": "python",
   "name": "python3"
  },
  "language_info": {
   "codemirror_mode": {
    "name": "ipython",
    "version": 3
   },
   "file_extension": ".py",
   "mimetype": "text/x-python",
   "name": "python",
   "nbconvert_exporter": "python",
   "pygments_lexer": "ipython3",
   "version": "3.11.5"
  }
 },
 "nbformat": 4,
 "nbformat_minor": 5
}
